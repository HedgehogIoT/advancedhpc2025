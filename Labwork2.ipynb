{
  "nbformat": 4,
  "nbformat_minor": 0,
  "metadata": {
    "colab": {
      "provenance": [],
      "gpuType": "T4"
    },
    "kernelspec": {
      "name": "python3",
      "display_name": "Python 3"
    },
    "language_info": {
      "name": "python"
    },
    "accelerator": "GPU"
  },
  "cells": [
    {
      "cell_type": "code",
      "execution_count": null,
      "metadata": {
        "id": "X5g3ROrzouAm"
      },
      "outputs": [],
      "source": [
        "from numba import cuda"
      ]
    },
    {
      "cell_type": "code",
      "source": [
        "cuda.detect()"
      ],
      "metadata": {
        "colab": {
          "base_uri": "https://localhost:8080/"
        },
        "id": "a34QRL5yppa5",
        "outputId": "eddd2f93-75cb-40f2-c325-46fbc0209463"
      },
      "execution_count": null,
      "outputs": [
        {
          "output_type": "stream",
          "name": "stdout",
          "text": [
            "Found 1 CUDA devices\n",
            "id 0             b'Tesla T4'                              [SUPPORTED]\n",
            "                      Compute Capability: 7.5\n",
            "                           PCI Device ID: 4\n",
            "                              PCI Bus ID: 0\n",
            "                                    UUID: GPU-d971c087-a030-cea5-6363-560452b83881\n",
            "                                Watchdog: Disabled\n",
            "             FP32/FP64 Performance Ratio: 32\n",
            "Summary:\n",
            "\t1/1 devices are supported\n"
          ]
        },
        {
          "output_type": "execute_result",
          "data": {
            "text/plain": [
              "True"
            ]
          },
          "metadata": {},
          "execution_count": 4
        }
      ]
    },
    {
      "cell_type": "code",
      "source": [
        "cuda.select_device(0)"
      ],
      "metadata": {
        "colab": {
          "base_uri": "https://localhost:8080/"
        },
        "id": "WbUQLMS7q_B4",
        "outputId": "8641f678-b1e7-42a1-80ca-fedb0ebc8a87"
      },
      "execution_count": null,
      "outputs": [
        {
          "output_type": "execute_result",
          "data": {
            "text/plain": [
              "<weakproxy at 0x7a507f71af70 to Device at 0x7a507e2bf500>"
            ]
          },
          "metadata": {},
          "execution_count": 7
        }
      ]
    },
    {
      "cell_type": "code",
      "source": [
        "# Device name and uid\n",
        "dev = cuda.current_context().device\n",
        "print(dev.name)\n",
        "print(dev.uuid)"
      ],
      "metadata": {
        "colab": {
          "base_uri": "https://localhost:8080/"
        },
        "id": "nyL_3baYrhPP",
        "outputId": "f8380db0-2e60-4553-e2ee-287e5078b05b"
      },
      "execution_count": null,
      "outputs": [
        {
          "output_type": "stream",
          "name": "stdout",
          "text": [
            "b'Tesla T4'\n",
            "GPU-d971c087-a030-cea5-6363-560452b83881\n"
          ]
        }
      ]
    },
    {
      "cell_type": "code",
      "source": [
        "gpus = cuda.gpus\n",
        "print(len(gpus))"
      ],
      "metadata": {
        "colab": {
          "base_uri": "https://localhost:8080/"
        },
        "id": "F3_zherMtSHP",
        "outputId": "7ad80898-ec62-4efd-fd17-b062cf36c209"
      },
      "execution_count": null,
      "outputs": [
        {
          "output_type": "stream",
          "name": "stdout",
          "text": [
            "1\n"
          ]
        }
      ]
    },
    {
      "cell_type": "code",
      "source": [
        "device = cuda.get_current_device()"
      ],
      "metadata": {
        "id": "AOPuKZJXvTme"
      },
      "execution_count": null,
      "outputs": []
    },
    {
      "cell_type": "code",
      "source": [
        "multiprocessor_count = device.MULTIPROCESSOR_COUNT"
      ],
      "metadata": {
        "id": "6QcOmDaJvZM-"
      },
      "execution_count": null,
      "outputs": []
    },
    {
      "cell_type": "code",
      "source": [
        "print(f\"Number of multiprocessors: {multiprocessor_count}\")"
      ],
      "metadata": {
        "colab": {
          "base_uri": "https://localhost:8080/"
        },
        "id": "FJaNRnu5veNg",
        "outputId": "aaa507df-14a2-4d0d-d810-b6725dd49270"
      },
      "execution_count": null,
      "outputs": [
        {
          "output_type": "stream",
          "name": "stdout",
          "text": [
            "Number of multiprocessors: 40\n"
          ]
        }
      ]
    },
    {
      "cell_type": "code",
      "source": [
        "threads_per_multiprocessors = device.WARP_SIZE * 32\n",
        "\n",
        "total_cores = multiprocessor_count * threads_per_multiprocessors\n",
        "print(f\"{total_cores}\")"
      ],
      "metadata": {
        "colab": {
          "base_uri": "https://localhost:8080/"
        },
        "id": "0RqmIFYrv6_A",
        "outputId": "919ff85e-d8d1-47ef-eebe-56e784e1cb0d"
      },
      "execution_count": null,
      "outputs": [
        {
          "output_type": "stream",
          "name": "stdout",
          "text": [
            "40960\n"
          ]
        }
      ]
    },
    {
      "cell_type": "code",
      "source": [
        "free_mem, total_mem = cuda.current_context().get_memory_info()\n",
        "print(f\"Free memory: {free_mem} MB\")\n",
        "print(f\"Total memory: {total_mem} MB\")"
      ],
      "metadata": {
        "colab": {
          "base_uri": "https://localhost:8080/"
        },
        "id": "hWWQK_vkxGc4",
        "outputId": "0305508e-2cce-48f3-ddef-24031b7c3983"
      },
      "execution_count": null,
      "outputs": [
        {
          "output_type": "stream",
          "name": "stdout",
          "text": [
            "Free memory: 15720382464 MB\n",
            "Total memory: 15828320256 MB\n"
          ]
        }
      ]
    }
  ]
}